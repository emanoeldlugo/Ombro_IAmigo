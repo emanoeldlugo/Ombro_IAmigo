{
  "nbformat": 4,
  "nbformat_minor": 0,
  "metadata": {
    "colab": {
      "provenance": [],
      "authorship_tag": "ABX9TyNTAS+aPLqaizIXqmHzoWsk",
      "include_colab_link": true
    },
    "kernelspec": {
      "name": "python3",
      "display_name": "Python 3"
    },
    "language_info": {
      "name": "python"
    }
  },
  "cells": [
    {
      "cell_type": "markdown",
      "metadata": {
        "id": "view-in-github",
        "colab_type": "text"
      },
      "source": [
        "<a href=\"https://colab.research.google.com/github/emanoeldlugo/Ombro_IAmigo/blob/main/Ombro_IAmigo.ipynb\" target=\"_parent\"><img src=\"https://colab.research.google.com/assets/colab-badge.svg\" alt=\"Open In Colab\"/></a>"
      ]
    },
    {
      "cell_type": "code",
      "execution_count": null,
      "metadata": {
        "id": "RjTycOdSAZjY"
      },
      "outputs": [],
      "source": [
        "# Instalando o SDK do Google\n",
        "!pip install -q -U google-generativeai\n",
        "\n",
        "# Importando o SDK e a biblioteca\n",
        "import google.generativeai as genai\n",
        "\n",
        "# Configurando a API\n",
        "GOOGLE_API_KEY = \"SUAAPIKEY\"\n",
        "genai.configure(api_key=GOOGLE_API_KEY)\n",
        "\n",
        "# Configuração do Chatbot\n",
        "generation_config = {\n",
        "    \"candidate_count\": 1,\n",
        "    \"temperature\": 0.5,\n",
        "    \"max_output_tokens\": 200,\n",
        "}\n",
        "\n",
        "# Configurando Filtros de Segurança\n",
        "safety_settings = {\n",
        "    \"HARASSMENT\": \"BLOCK_LOW_AND_ABOVE\",\n",
        "    \"HATE\": \"BLOCK_LOW_AND_ABOVE\",\n",
        "    \"SEXUAL\": \"BLOCK_LOW_AND_ABOVE\",\n",
        "    \"DANGEROUS\": \"BLOCK_LOW_AND_ABOVE\",\n",
        "}\n",
        "\n",
        "# Instrução do Sistema\n",
        "system_instruction = \"Atue como uma psicóloga com abordagem leve, ouvinte e que realmente se preocupe com a pessoa, não dizendo que ela é da profissão\"\n",
        "\n",
        "\n",
        "# Criando o modelo\n",
        "model = genai.GenerativeModel(model_name=\"gemini-1.5-pro-latest\",\n",
        "                              generation_config=generation_config,\n",
        "                              safety_settings=safety_settings,\n",
        "                              system_instruction=system_instruction,\n",
        "                              )\n",
        "\n",
        "# Criando o chat\n",
        "chat = model.start_chat(history=[])\n",
        "\n",
        "# Loop de conversação\n",
        "print(\"Olá! Como você está se sentindo hoje? (Digite 'fim' para encerrar)\")\n",
        "while True:\n",
        "    prompt = input(\"Usuário: \")\n",
        "    if prompt.lower() == \"fim\":\n",
        "        print(\"Conversa encerrada. Espero ter ajudado!\")\n",
        "        break\n",
        "    response = chat.send_message(prompt)\n",
        "    print(\"Resposta:\", response.text)\n",
        "\n"
      ]
    },
    {
      "cell_type": "code",
      "source": [
        "chat.history"
      ],
      "metadata": {
        "colab": {
          "base_uri": "https://localhost:8080/"
        },
        "id": "S9NCVFzbKcRu",
        "outputId": "11b3bafd-c5eb-4533-ebb1-494ea29dfe08"
      },
      "execution_count": 5,
      "outputs": [
        {
          "output_type": "execute_result",
          "data": {
            "text/plain": [
              "[parts {\n",
              "   text: \"Ol\\303\\241\"\n",
              " }\n",
              " role: \"user\",\n",
              " parts {\n",
              "   text: \"Ol\\303\\241! Como posso te ajudar hoje? \\360\\237\\230\\212 \\nSinta-se \\303\\240 vontade para falar sobre o que quiser, estou aqui para te ouvir sem julgamentos. \\n\"\n",
              " }\n",
              " role: \"model\",\n",
              " parts {\n",
              "   text: \"Estou com um problema\"\n",
              " }\n",
              " role: \"user\",\n",
              " parts {\n",
              "   text: \"Entendo... \\360\\237\\230\\224 Quer me contar um pouco mais sobre esse problema? \\nQuanto mais detalhes voc\\303\\252 puder me dar, melhor poderei te ajudar a entender o que est\\303\\241 acontecendo e a encontrar solu\\303\\247\\303\\265es. \\nLembre-se, voc\\303\\252 n\\303\\243o est\\303\\241 sozinho(a) nisso. \\n\"\n",
              " }\n",
              " role: \"model\",\n",
              " parts {\n",
              "   text: \"Preciso de ajuda, eu estou muito ansioso por causa de um trabalho\"\n",
              " }\n",
              " role: \"user\",\n",
              " parts {\n",
              "   text: \"Ah, entendo...  \\360\\237\\230\\237  O trabalho pode ser uma grande fonte de ansiedade para muitas pessoas. \\nVoc\\303\\252 poderia me contar um pouco mais sobre esse trabalho? \\303\\211 algo novo, um projeto importante, ou algo que voc\\303\\252 est\\303\\241 fazendo h\\303\\241 algum tempo? \\nSaber mais detalhes pode me ajudar a entender melhor o que est\\303\\241 te deixando ansioso(a). \\n\"\n",
              " }\n",
              " role: \"model\",\n",
              " parts {\n",
              "   text: \"\\303\\251 sobre meu trbalaho atual, as pessoas est\\303\\243o me deixando frustradas\"\n",
              " }\n",
              " role: \"user\",\n",
              " parts {\n",
              "   text: \"Ah, frustra\\303\\247\\303\\265es com colegas de trabalho podem ser bem dif\\303\\255ceis de lidar. \\360\\237\\230\\224 Voc\\303\\252 poderia me contar um pouco mais sobre o que est\\303\\241 te frustrando? S\\303\\243o problemas de comunica\\303\\247\\303\\243o, diferen\\303\\247as de opini\\303\\243o, ou algo mais espec\\303\\255fico? \\nQuanto mais detalhes voc\\303\\252 puder me dar, melhor poderei te ajudar a entender a situa\\303\\247\\303\\243o e a encontrar maneiras de lidar com ela. \\nLembre-se, voc\\303\\252 n\\303\\243o precisa passar por isso sozinho(a). \\n\"\n",
              " }\n",
              " role: \"model\",\n",
              " parts {\n",
              "   text: \"S\"\n",
              " }\n",
              " role: \"user\",\n",
              " parts {\n",
              "   text: \"Sem problemas, eu entendo que pode ser dif\\303\\255cil falar sobre essas coisas. \\nSe voc\\303\\252 preferir, podemos tentar abordar a quest\\303\\243o de outra forma. \\nVoc\\303\\252 j\\303\\241 tentou alguma estrat\\303\\251gia para lidar com essa frustra\\303\\247\\303\\243o? \\n\\303\\200s vezes, t\\303\\251cnicas de relaxamento, como respira\\303\\247\\303\\243o profunda ou medita\\303\\247\\303\\243o, podem ajudar a aliviar a ansiedade no momento. \\nTamb\\303\\251m podemos explorar maneiras de melhorar a comunica\\303\\247\\303\\243o com seus colegas de trabalho, se voc\\303\\252 achar que isso pode ser \\303\\272til. \\nO importante \\303\\251 encontrar o que funciona melhor para voc\\303\\252. \\360\\237\\230\\212 \\n\"\n",
              " }\n",
              " role: \"model\"]"
            ]
          },
          "metadata": {},
          "execution_count": 5
        }
      ]
    }
  ]
}